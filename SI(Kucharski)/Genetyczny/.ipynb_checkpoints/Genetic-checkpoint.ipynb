{
 "cells": [
  {
   "cell_type": "code",
   "execution_count": 1,
   "metadata": {
    "scrolled": true
   },
   "outputs": [],
   "source": [
    "import numpy as np\n",
    "import random\n",
    "\n",
    "class AG:\n",
    "    def __init__(self, **kwargs):\n",
    "        self.generations = kwargs['generations']\n",
    "        self.chromosomeLength = kwargs['chromosomeLength']\n",
    "        self.crossNumber = kwargs['crossNumber']\n",
    "        self.mutationNumber = kwargs['mutationNumber']\n",
    "        self.populationSize = kwargs['populationSize']\n",
    "        self.crossChance = kwargs['crossChance']\n",
    "        self.mutationChance = kwargs['mutationChance']\n",
    "        \n",
    "    def start(self):\n",
    "        self.data = np.arange(0,self.populationSize,1)\n",
    "        for i in range(0,self.populationSize):\n",
    "            self.data[i] = bin(random.randint(0, 2**self.chromosomeLength))[2:]\n",
    "        \n",
    "    def fitnessFunction(self,chromosome):\n",
    "        value = int(str(chromosome), 2)\n",
    "        \n",
    "        result = -value**2\n",
    "        return result\n",
    "\n",
    "    def fitnessForAll(self):\n",
    "        result = np.arange(0,self.populationSize,1)\n",
    "        for i in range(self.populationSize):\n",
    "            result[i] = self.fitnessFunction(self.data[i])\n",
    "        return result\n",
    "        \n",
    "    def roulette(self):\n",
    "        result = np.arange(0,self.populationSize, 1)\n",
    "        fit = self.fitnessForAll()\n",
    "        sumOfFit = sum(fit)\n",
    "        chance = fit/sumOfFit\n",
    "        for i in range(0,self.populationSize):\n",
    "            Sum = 0\n",
    "            x = random.random()\n",
    "            for j in range(0, self.populationSize):\n",
    "                Sum = Sum + chance[j]\n",
    "                if(Sum > x):\n",
    "                    result[i] = self.data[j]\n",
    "                    break\n",
    "        fit=0\n",
    "        sumOfFit = 0\n",
    "        chance=0\n",
    "        self.data = result\n",
    "    \n",
    "    def crossover(self, chromosome1, chromosome2):\n",
    "        locusts = [random.randint(1,self.chromosomeLength-2) for i in range(0,self.crossNumber)]\n",
    "        res1 = []\n",
    "        res2 = []\n",
    "        chr1s = str(chromosome1)\n",
    "        chr2s = str(chromosome2)\n",
    "        for i in range(0,self.crossNumber):\n",
    "            locusti = locusts[i]\n",
    "            temp1 = chr2s[locusti:]\n",
    "            temp2 = chr1s[locusti:]\n",
    "            \n",
    "            res1 = str(chr1s[0:locusti]) + str(temp1)\n",
    "            res2 = str(chr2s[0:locusti]) + str(temp2)\n",
    "        return (str(res1),str(res2))\n",
    "    \n",
    "    def crossoverForAll(self):\n",
    "        pairs = self.populationSize/2\n",
    "        pairs = pairs - pairs%2\n",
    "        for i in range(0, int(pairs)):\n",
    "            chance = random.random()\n",
    "            if(chance > self.crossChance):\n",
    "                chromosome1 = self.data[i]\n",
    "                chromosome2 = self.data[self.populationSize - 1 - i]\n",
    "                (chrs1, chrs2) = self.crossover(chromosome1, chromosome2)\n",
    "                self.data[i] = chrs1\n",
    "                self.data[self.populationSize - 1 - i] = chrs2\n",
    "    \n",
    "    def mutateForAll(self):\n",
    "        for i in range(0, self.populationSize):\n",
    "            chance = random.random()\n",
    "            if(chance > self.mutationChance):\n",
    "                chromosome = self.data[i]\n",
    "                self.data[i] = self.mutate(chromosome)\n",
    "                \n",
    "    def mutate(self, chromosome):\n",
    "        locusts = [random.randint(0,len(str(chromosome))-1) for i in range(0,self.mutationNumber)]\n",
    "        chr1s = list(str(chromosome))\n",
    "        for i in range(0, len(locusts)):\n",
    "            locusti = locusts[i]\n",
    "            char = chr1s[locusti]\n",
    "            if(char == '1'):\n",
    "                chr1s[locusti] = '0'\n",
    "            if(char == '0'):\n",
    "                chr1s[locusti] = '1'\n",
    "        return \"\".join(chr1s)\n",
    "    \n",
    "    def cycle(self):\n",
    "        self.roulette()\n",
    "        self.crossoverForAll()\n",
    "        self.mutateForAll()\n",
    "        \n",
    "    def train(self):\n",
    "        for i in range(0, self.generations):\n",
    "            self.cycle()\n",
    "    "
   ]
  },
  {
   "cell_type": "code",
   "execution_count": 2,
   "metadata": {},
   "outputs": [
    {
     "name": "stdout",
     "output_type": "stream",
     "text": [
      "[1010111001  111101010   11111111  110101100 1000111111]\n",
      "[1010101111 1010110001   10100111 1010101111 1010110001]\n"
     ]
    }
   ],
   "source": [
    "\n",
    "ag = AG(generations=50, chromosomeLength=10,crossNumber=2,\n",
    "        mutationNumber=2,populationSize=5,crossChance=0.76,\n",
    "       mutationChance=0.92)\n",
    "\n",
    "ag.start()\n",
    "print(ag.data)\n",
    "ag.train()\n",
    "print(ag.data)\n",
    "\n",
    "\n"
   ]
  },
  {
   "cell_type": "code",
   "execution_count": 3,
   "metadata": {},
   "outputs": [
    {
     "data": {
      "text/plain": [
       "'11010001001110001010'"
      ]
     },
     "execution_count": 3,
     "metadata": {},
     "output_type": "execute_result"
    }
   ],
   "source": [
    "bin(random.randint(0, 2**20))[2:]"
   ]
  },
  {
   "cell_type": "code",
   "execution_count": 4,
   "metadata": {},
   "outputs": [
    {
     "name": "stdout",
     "output_type": "stream",
     "text": [
      "[3, 2]\n"
     ]
    }
   ],
   "source": [
    "x = [random.randint(0,7) for i in range(0,2)]\n",
    "print(x)"
   ]
  },
  {
   "cell_type": "code",
   "execution_count": 5,
   "metadata": {},
   "outputs": [
    {
     "name": "stdout",
     "output_type": "stream",
     "text": [
      "Using matplotlib backend: Qt5Agg\n"
     ]
    }
   ],
   "source": [
    "%matplotlib auto                                                                                                                                                                                                                                                                                                                                                                                                                                                                                                                                                                                                                                                                                                                                                                                                                                                                                                                                                                                                                                                                                                                                                                                                                                                                                                                                                                                                                                                                                                                                                                                                                                                                                                                                                                                                                                                                                                                                                                                                                                                                                                                                                                                                                                                                                                                                                                                                                                                                                                                                                                                                                                                                                                                                                                                                                                                                                                                                                                                                                                             "
   ]
  },
  {
   "cell_type": "code",
   "execution_count": 6,
   "metadata": {},
   "outputs": [],
   "source": [
    "%matplotlib inline"
   ]
  },
  {
   "cell_type": "code",
   "execution_count": 7,
   "metadata": {},
   "outputs": [
    {
     "name": "stdout",
     "output_type": "stream",
     "text": [
      "11101101\n",
      "101101\n",
      "11101101\n"
     ]
    }
   ],
   "source": [
    "x = str(11101101)\n",
    "z = x[2:]\n",
    "\n",
    "print(x)\n",
    "print(z)\n",
    "print(x[0:2]+z)"
   ]
  },
  {
   "cell_type": "code",
   "execution_count": 8,
   "metadata": {},
   "outputs": [
    {
     "data": {
      "text/html": [
       "<style>.container { width:80% !important; }</style>"
      ],
      "text/plain": [
       "<IPython.core.display.HTML object>"
      ]
     },
     "metadata": {},
     "output_type": "display_data"
    }
   ],
   "source": [
    "from IPython.core.display import display, HTML\n",
    "display(HTML(\"<style>.container { width:80% !important; }</style>\"))"
   ]
  },
  {
   "cell_type": "code",
   "execution_count": 10,
   "metadata": {},
   "outputs": [
    {
     "name": "stdout",
     "output_type": "stream",
     "text": [
      "\n"
     ]
    }
   ],
   "source": [
    "x = 5\n",
    "z = 11\n",
    "print()"
   ]
  }
 ],
 "metadata": {
  "kernelspec": {
   "display_name": "Python 3",
   "language": "python",
   "name": "python3"
  },
  "language_info": {
   "codemirror_mode": {
    "name": "ipython",
    "version": 3
   },
   "file_extension": ".py",
   "mimetype": "text/x-python",
   "name": "python",
   "nbconvert_exporter": "python",
   "pygments_lexer": "ipython3",
   "version": "3.7.4"
  }
 },
 "nbformat": 4,
 "nbformat_minor": 2
}
