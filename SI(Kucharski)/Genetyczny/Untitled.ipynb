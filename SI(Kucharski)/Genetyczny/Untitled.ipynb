{
 "cells": [
  {
   "cell_type": "code",
   "execution_count": 1,
   "metadata": {},
   "outputs": [],
   "source": [
    "#wektor liczb i obudowac anfisa funkcja i zrobi anfisa z tymi liczbami jako parametrami genetyczny: 1/blad sredni i dla tego wektora da nam to wartosc funkcji przystosowania dla kazdego z osobników to samo\n",
    "# na podstawie wartosci tych funkcji przypisujemy im wartosc ruletki fit czyli wartosc funkcji przystosowania (albo liniowo albo bardziej agresywny log)\n",
    "# nastepnie bierzemy osobniki przpisane na ruletce (0-11 slabe , 11- X lepsze itd) z wyboru przez kolo ruletki juz randomowo wybieramy\n",
    "#patrzymy czy jest wieksze od parametru (np 0.7) wtedy krzyzuejmy lub nie , jesli nie zachodzi przepisujemy rodzicow, jesli tak to mieszamy czesc rodzicow i tworzymy dwa nowe - tez losujac\n",
    "# mutacje losujemy pozycje z wektora i zamieniamy np jedna ceche\n",
    "# while ilosc pokolen < od okreslonej liczby"
   ]
  },
  {
   "cell_type": "code",
   "execution_count": null,
   "metadata": {},
   "outputs": [],
   "source": []
  }
 ],
 "metadata": {
  "kernelspec": {
   "display_name": "Python 3",
   "language": "python",
   "name": "python3"
  },
  "language_info": {
   "codemirror_mode": {
    "name": "ipython",
    "version": 3
   },
   "file_extension": ".py",
   "mimetype": "text/x-python",
   "name": "python",
   "nbconvert_exporter": "python",
   "pygments_lexer": "ipython3",
   "version": "3.7.4"
  }
 },
 "nbformat": 4,
 "nbformat_minor": 2
}
